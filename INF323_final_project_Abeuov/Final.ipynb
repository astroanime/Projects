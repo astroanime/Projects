{
 "cells": [
  {
   "cell_type": "markdown",
   "metadata": {},
   "source": [
    "1. Data set was taken from https://www.kaggle.com/datasets \"WHO Suicide Statistics\""
   ]
  },
  {
   "cell_type": "markdown",
   "metadata": {},
   "source": [
    "1.1 Data preparation, importing all libraries and creating new dataframe"
   ]
  },
  {
   "cell_type": "code",
   "execution_count": null,
   "metadata": {},
   "outputs": [],
   "source": [
    "import datetime\n",
    "import pandas as pd\n",
    "import matplotlib.pyplot as plt \n",
    "import seaborn as sns\n",
    "import numpy as np\n",
    "\n",
    "df = pd.read_csv(\"suicide.csv\")\n",
    "df = df.loc[df[\"year\"] >= 2000]\n",
    "df = df.loc[df[\"year\"] < 2016 ]\n",
    "missing = df.isnull().sum()\n",
    "dr = df.dropna(axis=\"index\", how=\"any\", subset=['population', 'suicides_no'])\n",
    "missing_new = dr.isnull().sum()\n",
    "#dr['year'] = pd.to_datetime(dr['year'].astype('str'), format = '%Y')\n",
    "Suicides = dr.copy()\n",
    "Suicides.to_csv('D:/python/INF323_final_project_Abeuov/Suicides.csv')\n",
    "print(dr)\n",
    "print(missing_new)\n",
    "print(dr.dtypes)\n",
    "print(Suicides)"
   ]
  },
  {
   "cell_type": "markdown",
   "metadata": {},
   "source": [
    "2 Manipulating and analyzing data"
   ]
  },
  {
   "cell_type": "markdown",
   "metadata": {},
   "source": [
    "1 Graph. Suicides tendensy across the globe 2 Barchart. Total number of suicides per country since 2000"
   ]
  },
  {
   "cell_type": "code",
   "execution_count": null,
   "metadata": {},
   "outputs": [],
   "source": [
    "import datetime\n",
    "import pandas as pd\n",
    "import matplotlib.pyplot as plt \n",
    "import seaborn as sns\n",
    "import numpy as np\n",
    "sns.set_style('darkgrid')\n",
    "sns.set_palette(\"RdBu\")\n",
    "df = pd.read_csv('Suicides.csv')\n",
    "df.rename({'sex':'gender' , 'suicides_no':'suicides'} , inplace = True , axis = 1)\n",
    "plt.figure(figsize=(14,9))\n",
    "g = sns.relplot(x='year', y='suicides' ,data=df, ci=None, col='gender', kind = \"line\",)\n",
    "g.fig.suptitle('Suicides tendensy across the world from 2000', x=0.53)\n",
    "fig, ax = plt.subplots()\n",
    "population = df.groupby(['country']).population.max()\n",
    "df = df.groupby(['country']).suicides.agg(['sum', lambda x: x.sum()>25000]).sort_values(by =\"sum\")\n",
    "df['num'] = df['sum']\n",
    "df = df[df.num > 25000]\n",
    "ax.bar(df.index, df[\"sum\"])\n",
    "ax.set_xticklabels(df.index, rotation = 90)\n",
    "ax.legend()\n",
    "print(df)\n",
    "plt.show()"
   ]
  },
  {
   "cell_type": "markdown",
   "metadata": {},
   "source": [
    "3.For diferent age groups in Kazakhstan 4.Around the globe(per 100 K sitizens)"
   ]
  },
  {
   "cell_type": "code",
   "execution_count": null,
   "metadata": {},
   "outputs": [],
   "source": [
    "import datetime\n",
    "import pandas as pd\n",
    "import matplotlib.pyplot as plt \n",
    "import seaborn as sns\n",
    "import numpy as np\n",
    "sns.set_style('darkgrid')\n",
    "sns.set_palette(\"flare\")\n",
    "df = pd.read_csv('Suicides.csv')\n",
    "df['rate_per_100k'] = df['suicides_no'] / (df['population'] / 100000)\n",
    "sns.set_style(\"whitegrid\")\n",
    "kz_df = df.loc[df['country']=='Kazakhstan',]\n",
    "g=sns.catplot(x=\"sex\",y=\"rate_per_100k\", hue=\"age\", kind=\"bar\", data=kz_df, ci=None).set_xticklabels(rotation=90)\n",
    "g.fig.suptitle('Number of suicides per 100k: Kazakhstan')\n",
    "plt.figure(figsize= (14,5))\n",
    "sns.barplot(x = 'year', y = 'rate_per_100k', data = df,ci=None,  hue = 'age', orient='h').set_title(\"Suicides per 100K by Age groups\")\n",
    "plt.show()"
   ]
  },
  {
   "cell_type": "code",
   "execution_count": null,
   "metadata": {},
   "outputs": [],
   "source": [
    "import datetime\n",
    "import pandas as pd\n",
    "import matplotlib.pyplot as plt\n",
    "import seaborn as sns\n",
    "import numpy as np\n",
    "from matplotlib.pyplot import figure\n",
    "plt.subplots_adjust(left=0.280)\n",
    "sns.set_style('darkgrid')\n",
    "sns.set_palette(\"bright\")\n",
    "df = pd.read_csv('Suicides.csv')\n",
    "plt.title(\"Countries with biggest suicides \", fontsize=24)\n",
    "ds = df.groupby(['country', 'age']).suicides_no.sum().nlargest(10).plot(kind='barh', fontsize=16)\n",
    "plt.figure()\n",
    "dr = df.groupby(['country']).suicides_no.sum().nlargest(10).plot.pie(y=\"suicides_no\", title=\"country\", legend=False,autopct='%1.1f%%', shadow=True, startangle=0)\n",
    "plt.title(\"Countries with biggest suicides in different age categories\", fontsize=24)\n",
    "plt.legend(loc=\"lower center\", bbox_to_anchor=(0.5, -0.15), ncol= 2)\n",
    "plt.show()\n"
   ]
  },
  {
   "cell_type": "code",
   "execution_count": null,
   "metadata": {},
   "outputs": [],
   "source": [
    "import datetime\n",
    "import pandas as pd\n",
    "import matplotlib.pyplot as plt \n",
    "import seaborn as sns\n",
    "import numpy as np\n",
    "sns.set_style('darkgrid')\n",
    "sns.set_palette(\"bright\")\n",
    "df = pd.read_csv('Suicides.csv')\n",
    "df.rename({'sex':'gender' , 'suicides_no':'suicides'} , inplace = True , axis = 1)\n",
    "kz_df = df[df['country'].isin([\"United States of America\",\"Japan\", \"Russian Federation\"])]\n",
    "b = sns.relplot(x='year', y='suicides' ,data=df,  ci=None, kind = \"line\")\n",
    "g = sns.relplot(x='year', y='suicides' ,data=kz_df,hue=\"country\",  ci=None, kind = \"line\")\n",
    "g.fig.suptitle('Suicides tendensy in USA, Russia and Japan from 2000 to 2015', x=0.53)\n",
    "b.fig.suptitle('Suicide tendendes around the globe')\n",
    "fig, ax = plt.subplots()\n",
    "population = df.groupby(['country']).population.max()\n",
    "df = df.groupby(['country']).suicides.agg(['sum', lambda x: x.sum()>25000]).sort_values(by =\"sum\")\n",
    "df['num'] = df['sum']\n",
    "df = df[df.num > 25000]\n",
    "ax.bar(df.index, df[\"sum\"])\n",
    "ax.set_xticklabels(df.index, rotation = 90)\n",
    "ax.set_title(\"Total number of Suicides in countries in 21 century\")\n",
    "ax.legend()\n",
    "print(df)\n",
    "plt.show()"
   ]
  }
 ],
 "metadata": {
  "kernelspec": {
   "display_name": "Python 3.10.0 64-bit (system)",
   "language": "python",
   "name": "python3"
  },
  "language_info": {
   "codemirror_mode": {
    "name": "ipython",
    "version": 3
   },
   "file_extension": ".py",
   "mimetype": "text/x-python",
   "name": "python",
   "nbconvert_exporter": "python",
   "pygments_lexer": "ipython3",
   "version": "3.10.0"
  },
  "vscode": {
   "interpreter": {
    "hash": "c97e36f5c1aa02871b4149eafcab2ec871d39d20911a3254ab29c2172503796d"
   }
  }
 },
 "nbformat": 4,
 "nbformat_minor": 2
}
